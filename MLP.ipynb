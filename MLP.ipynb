{
 "cells": [
  {
   "cell_type": "code",
   "execution_count": 1,
   "metadata": {},
   "outputs": [],
   "source": [
    "import pandas as pd\n",
    "import torch\n",
    "import torch.nn.functional as F"
   ]
  },
  {
   "cell_type": "code",
   "execution_count": 2,
   "metadata": {},
   "outputs": [],
   "source": [
    "df = pd.read_csv('names.csv')\n",
    "names = df['NAMES'].tolist()"
   ]
  },
  {
   "cell_type": "code",
   "execution_count": 3,
   "metadata": {},
   "outputs": [],
   "source": [
    "stoi = {s:i+1 for i,s in enumerate(sorted(set(\"\".join(names))))}\n",
    "stoi[\".\"] = 0\n",
    "itos = {i:s for s,i in stoi.items()}"
   ]
  },
  {
   "cell_type": "code",
   "execution_count": 4,
   "metadata": {},
   "outputs": [],
   "source": [
    "# Build dataset\n",
    "block_size = 3 # context length\n",
    "X, Y = [],[]\n",
    "\n",
    "for w in names:\n",
    "    #print(w)\n",
    "    context = [0] * block_size\n",
    "    for ch in w + '.':\n",
    "        ix = stoi[ch]\n",
    "        X.append(context)\n",
    "        Y.append(ix)\n",
    "        context = context[1:] + [ix] # crop and append \n",
    "\n",
    "X = torch.tensor(X)\n",
    "Y = torch.tensor(Y)\n"
   ]
  },
  {
   "cell_type": "code",
   "execution_count": 5,
   "metadata": {},
   "outputs": [
    {
     "data": {
      "text/plain": [
       "(torch.Size([145813, 3]), torch.int64, torch.Size([145813]), torch.int64)"
      ]
     },
     "execution_count": 5,
     "metadata": {},
     "output_type": "execute_result"
    }
   ],
   "source": [
    "X.shape, X.dtype,Y.shape, Y.dtype"
   ]
  },
  {
   "cell_type": "code",
   "execution_count": 8,
   "metadata": {},
   "outputs": [
    {
     "data": {
      "text/plain": [
       "'aabavaanan'"
      ]
     },
     "execution_count": 8,
     "metadata": {},
     "output_type": "execute_result"
    }
   ],
   "source": [
    "names[0]"
   ]
  },
  {
   "cell_type": "code",
   "execution_count": 6,
   "metadata": {},
   "outputs": [
    {
     "data": {
      "text/plain": [
       "tensor([[ 0,  0,  0],\n",
       "        [ 0,  0,  1],\n",
       "        [ 0,  1,  1],\n",
       "        ...,\n",
       "        [ 0, 26,  5],\n",
       "        [26,  5,  5],\n",
       "        [ 5,  5, 12]])"
      ]
     },
     "execution_count": 6,
     "metadata": {},
     "output_type": "execute_result"
    }
   ],
   "source": [
    "X"
   ]
  },
  {
   "cell_type": "code",
   "execution_count": 10,
   "metadata": {},
   "outputs": [],
   "source": [
    "embedding_size = 2\n",
    "hidden_layer = 100\n",
    "C = torch.randn((27,embedding_size)) #lookup table\n",
    "\n",
    "# MLP\n",
    "W1 = torch.randn((embedding_size*block_size,hidden_layer)) # matrices\n",
    "b1 = torch.rand(hidden_layer) # bias\n",
    "W2 = torch.randn((hidden_layer ,27))\n",
    "b2 = torch.rand(27)\n",
    "\n",
    "parameters = [C,W1,W2,b1,b2]"
   ]
  },
  {
   "cell_type": "code",
   "execution_count": 89,
   "metadata": {},
   "outputs": [],
   "source": [
    "for p in parameters:\n",
    "    p.requires_grad = True"
   ]
  },
  {
   "cell_type": "code",
   "execution_count": 94,
   "metadata": {},
   "outputs": [
    {
     "name": "stdout",
     "output_type": "stream",
     "text": [
      "2.1886990070343018\n"
     ]
    }
   ],
   "source": [
    "epochs = 10000\n",
    "for _ in range(epochs):\n",
    "\n",
    "    #minibatch\n",
    "    ix = torch.randint(0,X.shape[0],(128,))\n",
    "\n",
    "    #Forward pass\n",
    "    emb = C[X[ix]]\n",
    "    h = torch.tanh(emb.view(-1,embedding_size*block_size) @ W1 + b1)\n",
    "    logits = h @ W2 + b2\n",
    "    loss = F.cross_entropy(logits,Y[ix])\n",
    "\n",
    "    #backward pass\n",
    "    for p in parameters:\n",
    "        p.grad = None\n",
    "    loss.backward()\n",
    "    # update\n",
    "    for p in parameters:\n",
    "        p.data += -0.1 * p.grad\n",
    "\n",
    "print(loss.item())\n",
    "\n"
   ]
  },
  {
   "cell_type": "code",
   "execution_count": 98,
   "metadata": {},
   "outputs": [
    {
     "name": "stdout",
     "output_type": "stream",
     "text": [
      "2.178276300430298\n"
     ]
    }
   ],
   "source": [
    "with torch.no_grad():\n",
    "    emb = C[X]\n",
    "    h = torch.tanh(emb.view(-1,embedding_size*block_size) @ W1 + b1)\n",
    "    logits = h @ W2 + b2\n",
    "    loss = F.cross_entropy(logits,Y)\n",
    "    print(loss.item())"
   ]
  },
  {
   "cell_type": "code",
   "execution_count": 102,
   "metadata": {},
   "outputs": [
    {
     "name": "stdout",
     "output_type": "stream",
     "text": [
      "prithali.\n",
      "diybadaga.\n",
      "jajathani.\n",
      "kora.\n",
      "sarish.\n",
      "dhar.\n",
      "shhanchitha.\n",
      "ama.\n",
      "gadharp.\n",
      "aga.\n",
      "bhaamoad.\n",
      "ditpejdraheshindrateshwana.\n",
      "savyanden.\n",
      "mrashpaul.\n",
      "lat.\n",
      "chakil.\n",
      "darvavanajdhaitam.\n",
      "laka.\n",
      "pir.\n",
      "ssvandra.\n"
     ]
    }
   ],
   "source": [
    "# Sample from the model\n",
    "for _ in range(20):\n",
    "\n",
    "    out = []\n",
    "    context = [0] * block_size\n",
    "    while True:\n",
    "        #forward pass\n",
    "        emb = C[torch.tensor([context])]\n",
    "        h = torch.tanh(emb.view(-1,embedding_size*block_size) @ W1 + b1)\n",
    "        logits = h @ W2 + b2\n",
    "        prob = F.softmax(logits,dim=1)\n",
    "\n",
    "        #Sampling from the distribution\n",
    "        idx = torch.multinomial(prob, 1, replacement=True).item()\n",
    "        context = context[1:] + [idx]\n",
    "        out.append(idx)\n",
    "\n",
    "        if(idx == 0):\n",
    "            break\n",
    "\n",
    "    print(\"\".join(itos[i] for i in out))"
   ]
  },
  {
   "cell_type": "code",
   "execution_count": null,
   "metadata": {},
   "outputs": [],
   "source": []
  }
 ],
 "metadata": {
  "kernelspec": {
   "display_name": "graph-net",
   "language": "python",
   "name": "python3"
  },
  "language_info": {
   "codemirror_mode": {
    "name": "ipython",
    "version": 3
   },
   "file_extension": ".py",
   "mimetype": "text/x-python",
   "name": "python",
   "nbconvert_exporter": "python",
   "pygments_lexer": "ipython3",
   "version": "3.10.4"
  },
  "orig_nbformat": 4
 },
 "nbformat": 4,
 "nbformat_minor": 2
}
