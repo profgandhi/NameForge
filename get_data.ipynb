{
 "cells": [
  {
   "cell_type": "code",
   "execution_count": 1,
   "metadata": {},
   "outputs": [],
   "source": [
    "import pandas as pd"
   ]
  },
  {
   "cell_type": "code",
   "execution_count": 2,
   "metadata": {},
   "outputs": [],
   "source": [
    "URL = \"https://www.momjunction.com/baby-names/indian/\"\n",
    "df = pd.read_html(URL)[0]\n",
    "df = df[df[\"Unnamed: 3\"].isna()][['NAMES','MEANING','GENDER']]"
   ]
  },
  {
   "cell_type": "code",
   "execution_count": null,
   "metadata": {},
   "outputs": [],
   "source": [
    "for i in range(2,174):\n",
    "    URL = \"https://www.momjunction.com/baby-names/indian/page/\" + str(i) + \"/\"\n",
    "    temp = pd.read_html(URL)[0]\n",
    "    temp = temp[temp[\"Unnamed: 3\"].isna()][['NAMES','MEANING','GENDER']]\n",
    "    df = pd.concat([df,temp])\n",
    "    print(i)"
   ]
  },
  {
   "cell_type": "code",
   "execution_count": 4,
   "metadata": {},
   "outputs": [],
   "source": [
    "df = df.reset_index(drop=True)"
   ]
  },
  {
   "cell_type": "code",
   "execution_count": 22,
   "metadata": {},
   "outputs": [
    {
     "data": {
      "text/html": [
       "<div>\n",
       "<style scoped>\n",
       "    .dataframe tbody tr th:only-of-type {\n",
       "        vertical-align: middle;\n",
       "    }\n",
       "\n",
       "    .dataframe tbody tr th {\n",
       "        vertical-align: top;\n",
       "    }\n",
       "\n",
       "    .dataframe thead th {\n",
       "        text-align: right;\n",
       "    }\n",
       "</style>\n",
       "<table border=\"1\" class=\"dataframe\">\n",
       "  <thead>\n",
       "    <tr style=\"text-align: right;\">\n",
       "      <th></th>\n",
       "      <th>NAMES</th>\n",
       "      <th>MEANING</th>\n",
       "      <th>GENDER</th>\n",
       "    </tr>\n",
       "  </thead>\n",
       "  <tbody>\n",
       "    <tr>\n",
       "      <th>0</th>\n",
       "      <td>Aabavaanan</td>\n",
       "      <td>implies a person who is responsible and reliable</td>\n",
       "      <td>Boy</td>\n",
       "    </tr>\n",
       "    <tr>\n",
       "      <th>1</th>\n",
       "      <td>Aabha (आभा)</td>\n",
       "      <td>Glow; Splendour; Light; Brilliance; Bright and...</td>\n",
       "      <td>Girl</td>\n",
       "    </tr>\n",
       "    <tr>\n",
       "      <th>2</th>\n",
       "      <td>Aabharan</td>\n",
       "      <td>means jewel, a variant form of name Abharan wh...</td>\n",
       "      <td>Boy</td>\n",
       "    </tr>\n",
       "    <tr>\n",
       "      <th>3</th>\n",
       "      <td>Aabhas</td>\n",
       "      <td>Sense or Feelings, has a Sanskrit meaning as r...</td>\n",
       "      <td>Boy</td>\n",
       "    </tr>\n",
       "    <tr>\n",
       "      <th>4</th>\n",
       "      <td>Aabhass</td>\n",
       "      <td>Awareness; A variant name of Abhas which means...</td>\n",
       "      <td>Boy</td>\n",
       "    </tr>\n",
       "  </tbody>\n",
       "</table>\n",
       "</div>"
      ],
      "text/plain": [
       "         NAMES                                            MEANING GENDER\n",
       "0   Aabavaanan   implies a person who is responsible and reliable    Boy\n",
       "1  Aabha (आभा)  Glow; Splendour; Light; Brilliance; Bright and...   Girl\n",
       "2     Aabharan  means jewel, a variant form of name Abharan wh...    Boy\n",
       "3       Aabhas  Sense or Feelings, has a Sanskrit meaning as r...    Boy\n",
       "4      Aabhass  Awareness; A variant name of Abhas which means...    Boy"
      ]
     },
     "execution_count": 22,
     "metadata": {},
     "output_type": "execute_result"
    }
   ],
   "source": [
    "df.head()"
   ]
  },
  {
   "cell_type": "code",
   "execution_count": 23,
   "metadata": {},
   "outputs": [],
   "source": [
    "#We have (devnagri) but we only want first names, so we will remove eveything from names after the first space\n",
    "df['NAMES'] = df['NAMES'].str.split().map(lambda x: x[0])"
   ]
  },
  {
   "cell_type": "code",
   "execution_count": 28,
   "metadata": {},
   "outputs": [],
   "source": [
    "#Get only unique names\n",
    "df = df.drop_duplicates('NAMES')"
   ]
  },
  {
   "cell_type": "code",
   "execution_count": 35,
   "metadata": {},
   "outputs": [],
   "source": [
    "#Turn to lowercase\n",
    "df['NAMES'] = df['NAMES'].str.lower()"
   ]
  },
  {
   "cell_type": "code",
   "execution_count": null,
   "metadata": {},
   "outputs": [],
   "source": [
    "#Need to remove ' - ' \n",
    "for name in df['NAMES']:\n",
    "    if '-' in name:\n",
    "        print(name)"
   ]
  },
  {
   "cell_type": "code",
   "execution_count": null,
   "metadata": {},
   "outputs": [],
   "source": [
    "df['NAMES'] = df['NAMES'].str.replace('-','')"
   ]
  },
  {
   "cell_type": "code",
   "execution_count": 36,
   "metadata": {},
   "outputs": [
    {
     "data": {
      "text/html": [
       "<div>\n",
       "<style scoped>\n",
       "    .dataframe tbody tr th:only-of-type {\n",
       "        vertical-align: middle;\n",
       "    }\n",
       "\n",
       "    .dataframe tbody tr th {\n",
       "        vertical-align: top;\n",
       "    }\n",
       "\n",
       "    .dataframe thead th {\n",
       "        text-align: right;\n",
       "    }\n",
       "</style>\n",
       "<table border=\"1\" class=\"dataframe\">\n",
       "  <thead>\n",
       "    <tr style=\"text-align: right;\">\n",
       "      <th></th>\n",
       "      <th>NAMES</th>\n",
       "      <th>MEANING</th>\n",
       "      <th>GENDER</th>\n",
       "    </tr>\n",
       "  </thead>\n",
       "  <tbody>\n",
       "    <tr>\n",
       "      <th>0</th>\n",
       "      <td>aabavaanan</td>\n",
       "      <td>implies a person who is responsible and reliable</td>\n",
       "      <td>Boy</td>\n",
       "    </tr>\n",
       "    <tr>\n",
       "      <th>1</th>\n",
       "      <td>aabha</td>\n",
       "      <td>Glow; Splendour; Light; Brilliance; Bright and...</td>\n",
       "      <td>Girl</td>\n",
       "    </tr>\n",
       "    <tr>\n",
       "      <th>2</th>\n",
       "      <td>aabharan</td>\n",
       "      <td>means jewel, a variant form of name Abharan wh...</td>\n",
       "      <td>Boy</td>\n",
       "    </tr>\n",
       "    <tr>\n",
       "      <th>3</th>\n",
       "      <td>aabhas</td>\n",
       "      <td>Sense or Feelings, has a Sanskrit meaning as r...</td>\n",
       "      <td>Boy</td>\n",
       "    </tr>\n",
       "    <tr>\n",
       "      <th>4</th>\n",
       "      <td>aabhass</td>\n",
       "      <td>Awareness; A variant name of Abhas which means...</td>\n",
       "      <td>Boy</td>\n",
       "    </tr>\n",
       "  </tbody>\n",
       "</table>\n",
       "</div>"
      ],
      "text/plain": [
       "        NAMES                                            MEANING GENDER\n",
       "0  aabavaanan   implies a person who is responsible and reliable    Boy\n",
       "1       aabha  Glow; Splendour; Light; Brilliance; Bright and...   Girl\n",
       "2    aabharan  means jewel, a variant form of name Abharan wh...    Boy\n",
       "3      aabhas  Sense or Feelings, has a Sanskrit meaning as r...    Boy\n",
       "4     aabhass  Awareness; A variant name of Abhas which means...    Boy"
      ]
     },
     "execution_count": 36,
     "metadata": {},
     "output_type": "execute_result"
    }
   ],
   "source": [
    "df.head()"
   ]
  },
  {
   "cell_type": "code",
   "execution_count": 37,
   "metadata": {},
   "outputs": [
    {
     "data": {
      "text/html": [
       "<div>\n",
       "<style scoped>\n",
       "    .dataframe tbody tr th:only-of-type {\n",
       "        vertical-align: middle;\n",
       "    }\n",
       "\n",
       "    .dataframe tbody tr th {\n",
       "        vertical-align: top;\n",
       "    }\n",
       "\n",
       "    .dataframe thead th {\n",
       "        text-align: right;\n",
       "    }\n",
       "</style>\n",
       "<table border=\"1\" class=\"dataframe\">\n",
       "  <thead>\n",
       "    <tr style=\"text-align: right;\">\n",
       "      <th></th>\n",
       "      <th>NAMES</th>\n",
       "      <th>MEANING</th>\n",
       "      <th>GENDER</th>\n",
       "    </tr>\n",
       "  </thead>\n",
       "  <tbody>\n",
       "    <tr>\n",
       "      <th>17205</th>\n",
       "      <td>yesha</td>\n",
       "      <td>Fame, one who desires fame</td>\n",
       "      <td>Girl</td>\n",
       "    </tr>\n",
       "    <tr>\n",
       "      <th>17206</th>\n",
       "      <td>yogendra</td>\n",
       "      <td>The God of yoga</td>\n",
       "      <td>Boy</td>\n",
       "    </tr>\n",
       "    <tr>\n",
       "      <th>17207</th>\n",
       "      <td>zankhana</td>\n",
       "      <td>One who holds a deep desire in her heart.</td>\n",
       "      <td>Girl</td>\n",
       "    </tr>\n",
       "    <tr>\n",
       "      <th>17208</th>\n",
       "      <td>zarna</td>\n",
       "      <td>A variation of the name Jharna. It means flow ...</td>\n",
       "      <td>Girl</td>\n",
       "    </tr>\n",
       "    <tr>\n",
       "      <th>17209</th>\n",
       "      <td>zeel</td>\n",
       "      <td>Waterfall</td>\n",
       "      <td>Girl</td>\n",
       "    </tr>\n",
       "  </tbody>\n",
       "</table>\n",
       "</div>"
      ],
      "text/plain": [
       "          NAMES                                            MEANING GENDER\n",
       "17205     yesha                         Fame, one who desires fame   Girl\n",
       "17206  yogendra                                    The God of yoga    Boy\n",
       "17207  zankhana          One who holds a deep desire in her heart.   Girl\n",
       "17208     zarna  A variation of the name Jharna. It means flow ...   Girl\n",
       "17209      zeel                                          Waterfall   Girl"
      ]
     },
     "execution_count": 37,
     "metadata": {},
     "output_type": "execute_result"
    }
   ],
   "source": [
    "df.tail()"
   ]
  },
  {
   "cell_type": "code",
   "execution_count": 38,
   "metadata": {},
   "outputs": [],
   "source": [
    "df.to_csv('names.csv',index=False)"
   ]
  },
  {
   "cell_type": "code",
   "execution_count": null,
   "metadata": {},
   "outputs": [],
   "source": []
  }
 ],
 "metadata": {
  "kernelspec": {
   "display_name": "graph-net",
   "language": "python",
   "name": "python3"
  },
  "language_info": {
   "codemirror_mode": {
    "name": "ipython",
    "version": 3
   },
   "file_extension": ".py",
   "mimetype": "text/x-python",
   "name": "python",
   "nbconvert_exporter": "python",
   "pygments_lexer": "ipython3",
   "version": "3.10.4"
  },
  "orig_nbformat": 4,
  "vscode": {
   "interpreter": {
    "hash": "19d12ccc6ea43c6fb7ece0ec2e6918c1399677ba6260a532a6c0f184cb9907cb"
   }
  }
 },
 "nbformat": 4,
 "nbformat_minor": 2
}
